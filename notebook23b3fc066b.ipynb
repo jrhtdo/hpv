{
 "cells": [
  {
   "cell_type": "code",
   "execution_count": 1,
   "id": "bddfb021",
   "metadata": {
    "_cell_guid": "b1076dfc-b9ad-4769-8c92-a6c4dae69d19",
    "_uuid": "8f2839f25d086af736a60e9eeb907d3b93b6e0e5",
    "execution": {
     "iopub.execute_input": "2023-10-28T19:15:04.440193Z",
     "iopub.status.busy": "2023-10-28T19:15:04.439740Z",
     "iopub.status.idle": "2023-10-28T19:15:04.843196Z",
     "shell.execute_reply": "2023-10-28T19:15:04.841907Z"
    },
    "papermill": {
     "duration": 0.41294,
     "end_time": "2023-10-28T19:15:04.845862",
     "exception": false,
     "start_time": "2023-10-28T19:15:04.432922",
     "status": "completed"
    },
    "tags": []
   },
   "outputs": [
    {
     "name": "stdout",
     "output_type": "stream",
     "text": [
      "/kaggle/input/qqqqqq/gibVirus.fa\n"
     ]
    }
   ],
   "source": [
    "# This Python 3 environment comes with many helpful analytics libraries installed\n",
    "# It is defined by the kaggle/python Docker image: https://github.com/kaggle/docker-python\n",
    "# For example, here's several helpful packages to load\n",
    "\n",
    "import numpy as np # linear algebra\n",
    "import pandas as pd # data processing, CSV file I/O (e.g. pd.read_csv)\n",
    "\n",
    "# Input data files are available in the read-only \"../input/\" directory\n",
    "# For example, running this (by clicking run or pressing Shift+Enter) will list all files under the input directory\n",
    "\n",
    "import os\n",
    "for dirname, _, filenames in os.walk('/kaggle/input'):\n",
    "    for filename in filenames:\n",
    "        print(os.path.join(dirname, filename))\n",
    "\n",
    "# You can write up to 20GB to the current directory (/kaggle/working/) that gets preserved as output when you create a version using \"Save & Run All\" \n",
    "# You can also write temporary files to /kaggle/temp/, but they won't be saved outside of the current session"
   ]
  },
  {
   "cell_type": "code",
   "execution_count": 2,
   "id": "c08f65ec",
   "metadata": {
    "execution": {
     "iopub.execute_input": "2023-10-28T19:15:04.870296Z",
     "iopub.status.busy": "2023-10-28T19:15:04.868139Z",
     "iopub.status.idle": "2023-10-28T19:15:07.505666Z",
     "shell.execute_reply": "2023-10-28T19:15:07.504117Z"
    },
    "papermill": {
     "duration": 2.650186,
     "end_time": "2023-10-28T19:15:07.508260",
     "exception": false,
     "start_time": "2023-10-28T19:15:04.858074",
     "status": "completed"
    },
    "tags": []
   },
   "outputs": [
    {
     "name": "stdout",
     "output_type": "stream",
     "text": [
      "Cloning into 'VirusSeqPipeline'...\r\n",
      "remote: Enumerating objects: 52, done.\u001b[K\r\n",
      "remote: Total 52 (delta 0), reused 0 (delta 0), pack-reused 52\u001b[K\r\n",
      "Unpacking objects: 100% (52/52), 7.01 MiB | 4.73 MiB/s, done.\r\n"
     ]
    }
   ],
   "source": [
    "!git clone https://github.com/rosericazondekon/VirusSeqPipeline.git"
   ]
  },
  {
   "cell_type": "code",
   "execution_count": 3,
   "id": "81ada5cd",
   "metadata": {
    "execution": {
     "iopub.execute_input": "2023-10-28T19:15:07.521269Z",
     "iopub.status.busy": "2023-10-28T19:15:07.520674Z",
     "iopub.status.idle": "2023-10-28T19:15:07.831984Z",
     "shell.execute_reply": "2023-10-28T19:15:07.831136Z"
    },
    "papermill": {
     "duration": 0.321096,
     "end_time": "2023-10-28T19:15:07.834560",
     "exception": false,
     "start_time": "2023-10-28T19:15:07.513464",
     "status": "completed"
    },
    "tags": []
   },
   "outputs": [
    {
     "name": "stdout",
     "output_type": "stream",
     "text": [
      "total 8632\r\n",
      "-rw-r--r-- 1 root root    1175 Oct 28 19:15 Jump_file_builder.sh\r\n",
      "-rw-r--r-- 1 root root     990 Oct 28 19:15 Spanner_anchor_hg19Virus.txt\r\n",
      "-rw-r--r-- 1 root root 8828983 Oct 28 19:15 hg19Virus_refGene_RIS.txt\r\n"
     ]
    }
   ],
   "source": [
    "ls -l /kaggle/working/VirusSeqPipeline/Mosaik_JumpDb/"
   ]
  },
  {
   "cell_type": "code",
   "execution_count": 4,
   "id": "2bf9daf4",
   "metadata": {
    "execution": {
     "iopub.execute_input": "2023-10-28T19:15:07.847914Z",
     "iopub.status.busy": "2023-10-28T19:15:07.847205Z",
     "iopub.status.idle": "2023-10-28T19:15:08.206989Z",
     "shell.execute_reply": "2023-10-28T19:15:08.205064Z"
    },
    "papermill": {
     "duration": 0.370073,
     "end_time": "2023-10-28T19:15:08.209996",
     "exception": false,
     "start_time": "2023-10-28T19:15:07.839923",
     "status": "completed"
    },
    "tags": []
   },
   "outputs": [],
   "source": [
    "!chmod 666 /kaggle/working/VirusSeqPipeline/Mosaik_JumpDb/*"
   ]
  },
  {
   "cell_type": "code",
   "execution_count": 5,
   "id": "6e8b4cb0",
   "metadata": {
    "execution": {
     "iopub.execute_input": "2023-10-28T19:15:08.222537Z",
     "iopub.status.busy": "2023-10-28T19:15:08.222160Z",
     "iopub.status.idle": "2023-10-28T19:30:05.617951Z",
     "shell.execute_reply": "2023-10-28T19:30:05.616089Z"
    },
    "papermill": {
     "duration": 897.529095,
     "end_time": "2023-10-28T19:30:05.744021",
     "exception": false,
     "start_time": "2023-10-28T19:15:08.214926",
     "status": "completed"
    },
    "tags": []
   },
   "outputs": [
    {
     "name": "stdout",
     "output_type": "stream",
     "text": [
      "/bin/bash: -c: line 1: syntax error: unexpected end of file\r\n",
      "Downloading hg19.fa.gz...\r\n",
      "--2023-10-28 19:15:09--  http://odin.mdacc.tmc.edu/~xsu1/hg19.fa.gz\r\n",
      "Resolving odin.mdacc.tmc.edu (odin.mdacc.tmc.edu)... 143.111.2.220\r\n",
      "Connecting to odin.mdacc.tmc.edu (odin.mdacc.tmc.edu)|143.111.2.220|:80... connected.\r\n",
      "HTTP request sent, awaiting response... 302 Moved Temporarily\r\n",
      "Location: https://odin.mdacc.tmc.edu/~xsu1/hg19.fa.gz [following]\r\n",
      "--2023-10-28 19:15:09--  https://odin.mdacc.tmc.edu/~xsu1/hg19.fa.gz\r\n",
      "Connecting to odin.mdacc.tmc.edu (odin.mdacc.tmc.edu)|143.111.2.220|:443... connected.\r\n",
      "HTTP request sent, awaiting response... 200 OK\r\n",
      "Length: 944601745 (901M) [application/x-gzip]\r\n",
      "Saving to: ‘hg19.fa.gz’\r\n",
      "\r\n",
      "hg19.fa.gz          100%[===================>] 900.84M  1.05MB/s    in 14m 32s \r\n",
      "\r\n",
      "2023-10-28 19:29:41 (1.03 MB/s) - ‘hg19.fa.gz’ saved [944601745/944601745]\r\n",
      "\r\n",
      "Extracting hg19.fa.gz\r\n",
      "/bin/bash: -c: line 0: syntax error near unexpected token `fi'\r\n",
      "/bin/bash: -c: line 0: `fi'\r\n"
     ]
    }
   ],
   "source": [
    "!if [ ! -f ./hg19.fa ] ; then\n",
    "!echo \"Downloading hg19.fa.gz...\"\n",
    "!wget \"http://odin.mdacc.tmc.edu/~xsu1/hg19.fa.gz\"\n",
    "!echo \"Extracting hg19.fa.gz\"\n",
    "!gunzip hg19.fa.gz\n",
    "!cp /kaggle/input/qqqqqq/gibVirus.fa .\n",
    "!fi"
   ]
  },
  {
   "cell_type": "code",
   "execution_count": 6,
   "id": "b97a2a4f",
   "metadata": {
    "execution": {
     "iopub.execute_input": "2023-10-28T19:30:06.189076Z",
     "iopub.status.busy": "2023-10-28T19:30:06.188590Z",
     "iopub.status.idle": "2023-10-28T19:30:13.346064Z",
     "shell.execute_reply": "2023-10-28T19:30:13.344288Z"
    },
    "papermill": {
     "duration": 7.384951,
     "end_time": "2023-10-28T19:30:13.349362",
     "exception": false,
     "start_time": "2023-10-28T19:30:05.964411",
     "status": "completed"
    },
    "tags": []
   },
   "outputs": [
    {
     "name": "stdout",
     "output_type": "stream",
     "text": [
      "--2023-10-28 19:30:06--  http://downloads.hmpdacc.org/data/Illumina/anterior_nares/SRS054061.tar.bz2\r\n",
      "Resolving downloads.hmpdacc.org (downloads.hmpdacc.org)... 134.192.156.26\r\n",
      "Connecting to downloads.hmpdacc.org (downloads.hmpdacc.org)|134.192.156.26|:80... connected.\r\n",
      "HTTP request sent, awaiting response... 200 OK\r\n",
      "Length: 138711242 (132M) [application/x-bzip2]\r\n",
      "Saving to: ‘SRS054061.tar.bz2’\r\n",
      "\r\n",
      "SRS054061.tar.bz2   100%[===================>] 132.29M  28.0MB/s    in 6.1s    \r\n",
      "\r\n",
      "2023-10-28 19:30:13 (21.5 MB/s) - ‘SRS054061.tar.bz2’ saved [138711242/138711242]\r\n",
      "\r\n"
     ]
    }
   ],
   "source": [
    "!wget http://downloads.hmpdacc.org/data/Illumina/anterior_nares/SRS054061.tar.bz2"
   ]
  },
  {
   "cell_type": "code",
   "execution_count": 7,
   "id": "f27d5510",
   "metadata": {
    "execution": {
     "iopub.execute_input": "2023-10-28T19:30:21.282222Z",
     "iopub.status.busy": "2023-10-28T19:30:21.280463Z",
     "iopub.status.idle": "2023-10-28T19:30:21.638385Z",
     "shell.execute_reply": "2023-10-28T19:30:21.637264Z"
    },
    "papermill": {
     "duration": 0.616506,
     "end_time": "2023-10-28T19:30:21.640826",
     "exception": false,
     "start_time": "2023-10-28T19:30:21.024320",
     "status": "completed"
    },
    "tags": []
   },
   "outputs": [
    {
     "name": "stdout",
     "output_type": "stream",
     "text": [
      "tar: /kaggle/working/VirusSeqPipeline/samples: Cannot open: No such file or directory\r\n",
      "tar: Error is not recoverable: exiting now\r\n"
     ]
    }
   ],
   "source": [
    "!tar -xvjf /kaggle/working/SRS054061.tar.bz2 -C /kaggle/working/VirusSeqPipeline/samples"
   ]
  },
  {
   "cell_type": "code",
   "execution_count": 8,
   "id": "fcc1e739",
   "metadata": {
    "execution": {
     "iopub.execute_input": "2023-10-28T19:30:22.090088Z",
     "iopub.status.busy": "2023-10-28T19:30:22.088828Z",
     "iopub.status.idle": "2023-10-28T19:30:22.801409Z",
     "shell.execute_reply": "2023-10-28T19:30:22.798772Z"
    },
    "papermill": {
     "duration": 0.941302,
     "end_time": "2023-10-28T19:30:22.803978",
     "exception": false,
     "start_time": "2023-10-28T19:30:21.862676",
     "status": "completed"
    },
    "tags": []
   },
   "outputs": [],
   "source": [
    "!rm hg19.fa"
   ]
  },
  {
   "cell_type": "code",
   "execution_count": 9,
   "id": "e06cc29a",
   "metadata": {
    "execution": {
     "iopub.execute_input": "2023-10-28T19:30:23.286496Z",
     "iopub.status.busy": "2023-10-28T19:30:23.285883Z",
     "iopub.status.idle": "2023-10-28T19:30:23.606059Z",
     "shell.execute_reply": "2023-10-28T19:30:23.603969Z"
    },
    "papermill": {
     "duration": 0.574669,
     "end_time": "2023-10-28T19:30:23.608811",
     "exception": false,
     "start_time": "2023-10-28T19:30:23.034142",
     "status": "completed"
    },
    "tags": []
   },
   "outputs": [
    {
     "name": "stdout",
     "output_type": "stream",
     "text": [
      "/bin/bash: /kaggle/working/VirusSeqPipeline/Mosaik_bin/MosaikBuild: Permission denied\r\n"
     ]
    }
   ],
   "source": [
    "!/kaggle/working/VirusSeqPipeline/Mosaik_bin/MosaikBuild -fr hg19.fa -oa hg19.fa.bin -st illumina"
   ]
  },
  {
   "cell_type": "code",
   "execution_count": 10,
   "id": "cc729e61",
   "metadata": {
    "execution": {
     "iopub.execute_input": "2023-10-28T19:30:24.142785Z",
     "iopub.status.busy": "2023-10-28T19:30:24.142410Z",
     "iopub.status.idle": "2023-10-28T19:30:24.486416Z",
     "shell.execute_reply": "2023-10-28T19:30:24.484545Z"
    },
    "papermill": {
     "duration": 0.610312,
     "end_time": "2023-10-28T19:30:24.489823",
     "exception": false,
     "start_time": "2023-10-28T19:30:23.879511",
     "status": "completed"
    },
    "tags": []
   },
   "outputs": [
    {
     "name": "stdout",
     "output_type": "stream",
     "text": [
      "/bin/bash: /kaggle/working/VirusSeqPipeline/Mosaik_bin/MosaikJump: Permission denied\r\n"
     ]
    }
   ],
   "source": [
    "!/kaggle/working/VirusSeqPipeline/Mosaik_bin/MosaikJump -ia hg19.fa.bin -out hg19.JumpDb -hs 6 -mhp 100 -km"
   ]
  },
  {
   "cell_type": "code",
   "execution_count": 11,
   "id": "e5428a54",
   "metadata": {
    "execution": {
     "iopub.execute_input": "2023-10-28T19:30:25.071223Z",
     "iopub.status.busy": "2023-10-28T19:30:25.069938Z",
     "iopub.status.idle": "2023-10-28T19:30:25.710048Z",
     "shell.execute_reply": "2023-10-28T19:30:25.708014Z"
    },
    "papermill": {
     "duration": 0.976989,
     "end_time": "2023-10-28T19:30:25.713988",
     "exception": false,
     "start_time": "2023-10-28T19:30:24.736999",
     "status": "completed"
    },
    "tags": []
   },
   "outputs": [
    {
     "name": "stdout",
     "output_type": "stream",
     "text": [
      "mv: cannot stat '*.jmp': No such file or directory\r\n",
      "mv: cannot stat '*.bin': No such file or directory\r\n"
     ]
    }
   ],
   "source": [
    "!mv *.jmp /kaggle/working/VirusSeqPipeline/Mosaik_JumpDb/\n",
    "!mv *.bin /kaggle/working/VirusSeqPipeline/Mosaik_JumpDb/"
   ]
  },
  {
   "cell_type": "code",
   "execution_count": 12,
   "id": "a3058778",
   "metadata": {
    "execution": {
     "iopub.execute_input": "2023-10-28T19:30:26.189979Z",
     "iopub.status.busy": "2023-10-28T19:30:26.189427Z",
     "iopub.status.idle": "2023-10-28T19:30:26.563373Z",
     "shell.execute_reply": "2023-10-28T19:30:26.561648Z"
    },
    "papermill": {
     "duration": 0.619749,
     "end_time": "2023-10-28T19:30:26.566104",
     "exception": false,
     "start_time": "2023-10-28T19:30:25.946355",
     "status": "completed"
    },
    "tags": []
   },
   "outputs": [],
   "source": [
    "cp /kaggle/input/qqqqqq/gibVirus.fa /kaggle/working/"
   ]
  },
  {
   "cell_type": "code",
   "execution_count": 13,
   "id": "0999d533",
   "metadata": {
    "execution": {
     "iopub.execute_input": "2023-10-28T19:30:27.027761Z",
     "iopub.status.busy": "2023-10-28T19:30:27.027229Z",
     "iopub.status.idle": "2023-10-28T19:30:27.379099Z",
     "shell.execute_reply": "2023-10-28T19:30:27.377751Z"
    },
    "papermill": {
     "duration": 0.580038,
     "end_time": "2023-10-28T19:30:27.381669",
     "exception": false,
     "start_time": "2023-10-28T19:30:26.801631",
     "status": "completed"
    },
    "tags": []
   },
   "outputs": [],
   "source": [
    "!mkdir /kaggle/working/VirusSeqPipeline/samples"
   ]
  },
  {
   "cell_type": "code",
   "execution_count": 14,
   "id": "8caad2fa",
   "metadata": {
    "execution": {
     "iopub.execute_input": "2023-10-28T19:30:27.949666Z",
     "iopub.status.busy": "2023-10-28T19:30:27.948619Z",
     "iopub.status.idle": "2023-10-28T19:30:27.977556Z",
     "shell.execute_reply": "2023-10-28T19:30:27.976411Z"
    },
    "papermill": {
     "duration": 0.292318,
     "end_time": "2023-10-28T19:30:27.979808",
     "exception": false,
     "start_time": "2023-10-28T19:30:27.687490",
     "status": "completed"
    },
    "tags": []
   },
   "outputs": [],
   "source": [
    "#!/usr/bin/env python\n",
    "import os\n",
    "import subprocess\n",
    "\n",
    "# Set the working directory where the script will run\n",
    "working_directory = \"/kaggle/working\"\n",
    "os.chdir(working_directory)\n",
    "\n",
    "# VirusSeqPipeline by Roseric Azondekon\n",
    "\n",
    "# Set the VirusSeq working directory\n",
    "folder = \"/kaggle/working/VirusSeqPipeline\"\n",
    "\n",
    "# Get Reference genome files if they do not exist\n",
    "\n",
    "# Check if all Jump files exist. If not, create them\n",
    "'''jump_files = os.listdir(os.path.join(folder, \"Mosaik_JumpDb\"))\n",
    "if len(jump_files) != 6:\n",
    "    os.chdir(os.path.join(folder, \"Mosaik_JumpDb\"))\n",
    "    subprocess.call([\"bash\", \"Jump_file_builder.sh\"])\n",
    "else:\n",
    "    print(\"All JMP files already exist...Skip Jump Db creation...\")'''\n",
    "\n",
    "# For each sample in the folder samples\n",
    "folder2 = os.path.join(folder, \"samples\")\n",
    "sample_folders = os.listdir(folder2)\n",
    "for sample_folder in sample_folders:\n",
    "    sample = sample_folder  # Use the folder name as the sample name\n",
    "\n",
    "    # All job processing goes here\n",
    "\n",
    "    # Create folders if they do not exist\n",
    "    os.makedirs(os.path.join(folder2, sample_folder, \"Gig\"), exist_ok=True)\n",
    "    os.makedirs(os.path.join(folder2, sample_folder, \"SV_gDNA\"), exist_ok=True)\n",
    "    os.makedirs(os.path.join(folder, \"results\", sample), exist_ok=True)\n",
    "\n",
    "    # Virus detection by NGS data\n",
    "\n",
    "    # Converting external read formats to the native MOSAIK format\n",
    "    subprocess.call([\n",
    "        os.path.join(folder, \"Mosaik_bin\", \"MosaikBuild\"),\n",
    "        \"-q\", os.path.join(folder2, sample_folder, f\"{sample}.denovo_duplicates_marked.trimmed.1.fastq\"),\n",
    "        \"-q2\", os.path.join(folder2, sample_folder, f\"{sample}.denovo_duplicates_marked.trimmed.2.fastq\"),\n",
    "        \"-out\", os.path.join(folder, \"results\", sample, f\"{sample}_Virus.bin\"),\n",
    "        \"-st\", \"illumina\"\n",
    "    ])\n",
    "\n",
    "    # Performing alignment against the human genome reference hg19 with MosaikAligner\n",
    "    subprocess.call([\n",
    "        os.path.join(folder, \"Mosaik_bin\", \"MosaikAligner\"),\n",
    "        \"-in\", os.path.join(folder, \"results\", sample, f\"{sample}_Virus.bin\"),\n",
    "        \"-ia\", os.path.join(folder, \"Mosaik_JumpDb\", \"hg19.fa.bin\"),\n",
    "        \"-out\", os.path.join(folder, \"results\", sample, f\"{sample}_Virus.bin.aligned\"),\n",
    "        \"-hs\", \"6\",\n",
    "        \"-mmp\", \"0.1\",\n",
    "        \"-mmal\", \"0.5\",\n",
    "        \"-act\", \"25\",\n",
    "        \"-mhp\", \"100\",\n",
    "        \"-m\", \"unique\",\n",
    "        \"-j\", os.path.join(folder, \"Mosaik_JumpDb\", \"hg19.JumpDb\"),\n",
    "        \"-p\", \"14\",\n",
    "        \"-km\",\n",
    "        \"-pm\",\n",
    "        \"-rur\", os.path.join(folder, \"results\", sample, f\"{sample}_Unalg.fq\")\n",
    "    ])\n",
    "    \n",
    "    # Continue with the rest of the script...\n",
    "    # Start aligning unmapped reads against virus genomes to detect the virus\n",
    "\n",
    "    # Sorting the mapped reads in terms of their mapped genomic location using MosaikSort\n",
    "    subprocess.call([\n",
    "        os.path.join(folder, \"Mosaik_bin\", \"MosaikBuild\"),\n",
    "        \"-q\", os.path.join(folder, \"results\", sample, f\"{sample}_Unalg.fq\"),\n",
    "        \"-out\", os.path.join(folder, \"results\", sample, f\"{sample}_Virus.bin\"),\n",
    "        \"-st\", \"illumina\"\n",
    "    ])\n",
    "\n",
    "    subprocess.call([\n",
    "        os.path.join(folder, \"Mosaik_bin\", \"MosaikAligner\"),\n",
    "        \"-in\", os.path.join(folder, \"results\", sample, f\"{sample}_Virus.bin\"),\n",
    "        \"-ia\", os.path.join(folder, \"Mosaik_JumpDb\", \"gibVirus.fa.bin\"),\n",
    "        \"-out\", os.path.join(folder, \"results\", sample, f\"{sample}_Virus.bin.aligned\"),\n",
    "        \"-hs\", \"6\",\n",
    "        \"-mmp\", \"0.15\",\n",
    "        \"-act\", \"25\",\n",
    "        \"-mhp\", \"100\",\n",
    "        \"-m\", \"all\",\n",
    "        \"-j\", os.path.join(folder, \"Mosaik_JumpDb\", \"gibVirus.JumpDb\"),\n",
    "        \"-p\", \"14\",\n",
    "        \"-km\",\n",
    "        \"-pm\"\n",
    "    ])\n",
    "\n",
    "    subprocess.call([\n",
    "        os.path.join(folder, \"Mosaik_bin\", \"MosaikSort\"),\n",
    "        \"-in\", os.path.join(folder, \"results\", sample, f\"{sample}_Virus.bin.aligned\"),\n",
    "        \"-out\", os.path.join(folder, \"results\", sample, f\"{sample}_Virus.bin.aligned.sorted\")\n",
    "    ])\n",
    "    '''\n",
    "    # Producing an assembly of the reads pileup for visualization purposes using MosaikAssembler\n",
    "    subprocess.call([\n",
    "        os.path.join(folder, \"Mosaik_bin\", \"MosaikAssembler\"),\n",
    "        \"-in\", os.path.join(folder, \"results\", sample, f\"{sample}_Virus.bin.aligned.sorted\"),\n",
    "        \"-ia\", os.path.join(folder, \"Mosaik_JumpDb\", \"gibVirus.fa.bin\"),\n",
    "        \"-out\", os.path.join(folder2, sample_folder, \"Gig\", f\"{sample}_Virus.bin.aligned.sorted.assembled\"),\n",
    "        \"-f\", \"ace\"\n",
    "    ])\n",
    "    '''\n",
    "    mosaik_assembler_command = [\n",
    "    os.path.join(folder, \"Mosaik_bin\", \"MosaikAssembler\"),\n",
    "    \"-in\", os.path.join(folder, \"results\", sample, f\"{sample}_Virus.bin.aligned.sorted\"),\n",
    "    \"-ia\", os.path.join(folder, \"Mosaik_JumpDb\", \"gibVirus.fa.bin\"),\n",
    "    \"-out\", os.path.join(folder2, sample_folder, \"Gig\", f\"{sample}_Virus.bin.aligned.sorted.assembled\"),\n",
    "    \"-f\", \"ace\"\n",
    "    ]\n",
    "\n",
    "    # Specify the output file\n",
    "    virus_log_output = open(os.path.join(folder, \"results\", sample, f\"{sample}_VirusLog.txt\"), \"w\")\n",
    "\n",
    "    # Run MosaikAssembler and redirect output to VirusLog.txt\n",
    "    subprocess.call(mosaik_assembler_command, stdout=virus_log_output)\n",
    "    virus_log_output.close()  # Close the output file\n",
    "    \n",
    "    # Detect the virus in the sample by VirusSeq_Detection.pl\n",
    "    subprocess.call([\n",
    "        \"perl\",\n",
    "        os.path.join(folder, \"VirusSeq_Script\", \"VirusSeq_Detection.pl\"),\n",
    "        os.path.join(folder, \"results\", sample, f\"{sample}_VirusLog.txt\"),\n",
    "        \"10\",\n",
    "        os.path.join(folder, \"results\", sample, f\"{sample}_VirusName.txt\")\n",
    "    ])\n",
    "    \n",
    "    # Continue with the next sample\n",
    "\n",
    "# The rest of your script here...\n",
    "\n",
    "# Detection of virus integration sites by NGS data\n",
    "\n",
    "# Continue with the script to process other samples and tasks\n",
    "\n",
    "# End of the script"
   ]
  },
  {
   "cell_type": "code",
   "execution_count": 15,
   "id": "1446049a",
   "metadata": {
    "execution": {
     "iopub.execute_input": "2023-10-28T19:30:28.545429Z",
     "iopub.status.busy": "2023-10-28T19:30:28.545057Z",
     "iopub.status.idle": "2023-10-28T19:30:29.229162Z",
     "shell.execute_reply": "2023-10-28T19:30:29.226534Z"
    },
    "papermill": {
     "duration": 1.01373,
     "end_time": "2023-10-28T19:30:29.232907",
     "exception": false,
     "start_time": "2023-10-28T19:30:28.219177",
     "status": "completed"
    },
    "tags": []
   },
   "outputs": [],
   "source": [
    "!rm *.tar.bz2\n",
    "!rm -rf /kaggle/working/VirusSeqPipeline/samples/*"
   ]
  },
  {
   "cell_type": "code",
   "execution_count": 16,
   "id": "921a7f54",
   "metadata": {
    "execution": {
     "iopub.execute_input": "2023-10-28T19:30:29.713698Z",
     "iopub.status.busy": "2023-10-28T19:30:29.713301Z",
     "iopub.status.idle": "2023-10-28T19:30:30.062624Z",
     "shell.execute_reply": "2023-10-28T19:30:30.061533Z"
    },
    "papermill": {
     "duration": 0.584578,
     "end_time": "2023-10-28T19:30:30.064800",
     "exception": false,
     "start_time": "2023-10-28T19:30:29.480222",
     "status": "completed"
    },
    "tags": []
   },
   "outputs": [
    {
     "name": "stdout",
     "output_type": "stream",
     "text": [
      "tar: /kaggle/working/VirusSeqPipeline/results: Cannot open: No such file or directory\r\n",
      "tar: Error is not recoverable: exiting now\r\n"
     ]
    },
    {
     "data": {
      "text/html": [
       "Path (<tt>/kaggle/working/results.zip</tt>) doesn't exist. It may still be in the process of being generated, or you may have the incorrect path."
      ],
      "text/plain": [
       "/kaggle/working/results.zip"
      ]
     },
     "execution_count": 16,
     "metadata": {},
     "output_type": "execute_result"
    }
   ],
   "source": [
    "from IPython.display import FileLink\n",
    "# Compress the files in the specified directory\n",
    "!tar -czvf /kaggle/working/results.zip -C /kaggle/working/VirusSeqPipeline/results .\n",
    "# Create a FileLink to the compressed file\n",
    "FileLink(r'/kaggle/working/results.zip')"
   ]
  }
 ],
 "metadata": {
  "kernelspec": {
   "display_name": "Python 3",
   "language": "python",
   "name": "python3"
  },
  "language_info": {
   "codemirror_mode": {
    "name": "ipython",
    "version": 3
   },
   "file_extension": ".py",
   "mimetype": "text/x-python",
   "name": "python",
   "nbconvert_exporter": "python",
   "pygments_lexer": "ipython3",
   "version": "3.10.12"
  },
  "papermill": {
   "default_parameters": {},
   "duration": 929.539439,
   "end_time": "2023-10-28T19:30:30.945860",
   "environment_variables": {},
   "exception": null,
   "input_path": "__notebook__.ipynb",
   "output_path": "__notebook__.ipynb",
   "parameters": {},
   "start_time": "2023-10-28T19:15:01.406421",
   "version": "2.4.0"
  }
 },
 "nbformat": 4,
 "nbformat_minor": 5
}
